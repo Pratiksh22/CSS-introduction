{
  "nbformat": 4,
  "nbformat_minor": 0,
  "metadata": {
    "colab": {
      "provenance": [],
      "authorship_tag": "ABX9TyNPCQ59kBQ/gZhmozgz77w4",
      "include_colab_link": true
    },
    "kernelspec": {
      "name": "python3",
      "display_name": "Python 3"
    },
    "language_info": {
      "name": "python"
    }
  },
  "cells": [
    {
      "cell_type": "markdown",
      "metadata": {
        "id": "view-in-github",
        "colab_type": "text"
      },
      "source": [
        "<a href=\"https://colab.research.google.com/github/Pratiksh22/CSS-introduction/blob/main/Module_9.ipynb\" target=\"_parent\"><img src=\"https://colab.research.google.com/assets/colab-badge.svg\" alt=\"Open In Colab\"/></a>"
      ]
    },
    {
      "cell_type": "code",
      "execution_count": null,
      "metadata": {
        "id": "5yxUgHWSVlhk"
      },
      "outputs": [],
      "source": []
    },
    {
      "cell_type": "markdown",
      "source": [
        " Q.1 Describe the main differences between the CSS Flexbox layout model and the CSS Grid layout model. When\n",
        "would you choose to use one over the other?"
      ],
      "metadata": {
        "id": "naWNGllnV6zV"
      }
    },
    {
      "cell_type": "markdown",
      "source": [
        "**Grid:**\n",
        "1. Grid is a Two - Dimensional.\n",
        "2. Grid support type is Layout First\n",
        "**Flexbox:**\n",
        "1. Flex-box is a one - Dimensional.\n",
        "2. Flexbox support type is content first."
      ],
      "metadata": {
        "id": "2rbVRMi6V_Mi"
      }
    },
    {
      "cell_type": "markdown",
      "source": [
        "Q.2 Explain the role of the following key properties in the Flexbox layout mode\n",
        " justify-content\n",
        "  align-item\n",
        "   gap\n",
        "flex-direction\n",
        "flex-wrap"
      ],
      "metadata": {
        "id": "_z99B_svWlMh"
      }
    },
    {
      "cell_type": "markdown",
      "source": [
        "**Align item:**\n",
        "1. Aligns flex items along the cross-axis.\n",
        "2. Possible values: stretch, center, flex-start, flex-end.\n",
        "3. The default value is stretch.\n",
        "**Justify- content:**\n",
        "1. Aligns the entire flex container's items along the main axis.\n",
        "2. Possible values: flex-start, flex-end, center, space-between, space-around, space-evenly.\n",
        "3. Determines how space is distributed around items.\n",
        "**Gap:**\n",
        "1. Sets the spacing between items in a flex container.\n",
        "2. Can be defined for rows (row-gap) and columns (column-gap), or both (gap).\n",
        "3. Useful for creating consistent spacing without margins.\n",
        "\n",
        "**Flex-Direction:**\n",
        "1. Specifies the direction of the flex items in the flex container.\n",
        "2. Possible values: row, row-reverse, column, column-reverse.\n",
        "3. Determines the main axis direction (horizontal or vertical).\n",
        "\n",
        "**Flex-wrap:**\n",
        "1. Controls whether flex items are forced into a single line or can wrap onto multiple lines.\n",
        "2. Possible values: nowrap, wrap, wrap-reverse.\n",
        "3. The default value is nowrap."
      ],
      "metadata": {
        "id": "oDDKWEOkW10L"
      }
    },
    {
      "cell_type": "markdown",
      "source": [
        "Q.3 Write the code to center a div using CSS Flexbox."
      ],
      "metadata": {
        "id": "eqkVIOcLW2JM"
      }
    },
    {
      "cell_type": "code",
      "source": [
        "<!DOCTYPE html>\n",
        "<html>\n",
        "<head>\n",
        "    <meta charset=\"UTF-8\" />\n",
        "    <title>CSS Flexbox</title>\n",
        "    <style>\n",
        "        .Box{\n",
        "         display: flex;\n",
        "         justify-content: center;\n",
        "         align-items: center;\n",
        "         width: 400px;\n",
        "         height: 400px;\n",
        "         background-color: chartreuse;\n",
        "        }\n",
        "\n",
        "\n",
        "\n",
        "\n",
        "\n",
        "    </style>\n",
        "</head>\n",
        "<body>\n",
        "    <div class=\"Box\">Box A\n",
        "    </div>\n",
        "</body>\n",
        "</html>"
      ],
      "metadata": {
        "id": "myH45S7KW6km"
      },
      "execution_count": null,
      "outputs": []
    },
    {
      "cell_type": "markdown",
      "source": [
        "Q.4  A client of yours wants to add a pricing section on their website to showcase their newly introduced\n",
        "premium plans.\n",
        "\n",
        "You have to build the pricing section for their business. They have provided you with the figma design for the\n",
        "same. Link"
      ],
      "metadata": {
        "id": "G3SEkMrtXBjC"
      }
    },
    {
      "cell_type": "code",
      "source": [
        "<html>\n",
        "<head>\n",
        "    <title>\n",
        "        Pricing Table using HTML and CSS\n",
        "    </title>\n",
        "    <link rel=\"stylesheet\" href=\"style.css\">\n",
        "</head>\n",
        "<body>\n",
        "    <div class=\"container\">\n",
        "\n",
        "        <div class=\"price-row\">\n",
        "            <div class=\"price-col\">\n",
        "                <p>Free Plan</p>\n",
        "                <hr>\n",
        "                <h3>  $0</h3>\n",
        "                <ul>\n",
        "                    <li>0 users</li>\n",
        "                    <li>4 web mails</li>\n",
        "                    <li>Responsive website</li>\n",
        "                    <li>Free SSL</li>\n",
        "\n",
        "                </ul>\n",
        "                <button>Subscribe</button>\n",
        "            </div>\n",
        "            <div class=\"price-col\" id=\"best\">\n",
        "                <p id=\"prem\">Basic</p>\n",
        "                <hr>\n",
        "                <h3>$29</h3>\n",
        "                <ul>\n",
        "                    <li>4 users</li>\n",
        "                     <li>10 web mails</li>\n",
        "            <li>Responsive website</li>\n",
        "            <li>Free SSL</li>\n",
        "                </ul>\n",
        "                <button>Subscribe</button>\n",
        "            </div>\n",
        "            <div class=\"price-col\">\n",
        "                <p>Pro-Plan</p>\n",
        "                <hr>\n",
        "                <h3>$49</h3>\n",
        "                <ul>\n",
        "                    <li>Unlimited</li>\n",
        "                     <li>unlimited web mails</li>\n",
        "            <li>Responsive website</li>\n",
        "            <li>Free SSL</li>\n",
        "                </ul>\n",
        "                <button>Subscribe</button>\n",
        "            </div>\n",
        "        </div>\n",
        "    </div>\n",
        "</body>\n",
        "</html>"
      ],
      "metadata": {
        "id": "zLAVh78PXGxs"
      },
      "execution_count": null,
      "outputs": []
    },
    {
      "cell_type": "markdown",
      "source": [],
      "metadata": {
        "id": "ufnJyYjyXNAL"
      }
    },
    {
      "cell_type": "code",
      "source": [
        "* {\n",
        "    margin: 0;\n",
        "    padding: 0;\n",
        "    box-sizing: border-box;\n",
        "    font-family: 'Poppins', sans-serif;\n",
        "}\n",
        "\n",
        ".container {\n",
        "    display: flex;\n",
        "    justify-content: center;\n",
        "    width: 100%;\n",
        "    min-height: 100vh;\n",
        "    background: rgb(1, 1, 65);\n",
        "}\n",
        "\n",
        ".container h2 {\n",
        "    color: white;\n",
        "    font-size: 32px;\n",
        "    padding: 15px 0 20px 0;\n",
        "    text-align: left;\n",
        "    margin-left: 10%;\n",
        "}\n",
        "\n",
        ".container h3 {\n",
        "    margin: 0% 0 2% 10%;\n",
        "    font-size: 24px;\n",
        "    color: rgb(3, 3, 73);\n",
        "}\n",
        "\n",
        ".price-row {\n",
        "    width: 81%;\n",
        "    margin: auto;\n",
        "    display: grid;\n",
        "    grid-template-columns: repeat(auto-fit, minmax(250px, 1fr));\n",
        "    grid-gap: 30px;\n",
        "}\n",
        "\n",
        ".price-col {\n",
        "    transition: box-shadow .5s;\n",
        "    transition: transform;\n",
        "    background: #61677A;\n",
        "    padding: 10% 10%;\n",
        "    border-radius: 10px;\n",
        "    color: #D8D9DA;\n",
        "    text-align: center;\n",
        "}\n",
        "\n",
        "hr {\n",
        "    padding: -10% !important;\n",
        "}\n",
        "\n",
        ".price-col:hover {\n",
        "    box-shadow: 0 0 20px rgba(9, 157, 194, 0.2);\n",
        "    transform: scale(1.04);\n",
        "}\n",
        "\n",
        ".price-col p {\n",
        "    font-size: 22px;\n",
        "}\n",
        "\n",
        ".price-col h3 {\n",
        "    color: gray;\n",
        "    font-size: 44px;\n",
        "    margin: 15px 0 20px;\n",
        "    font-weight: 500;\n",
        "}\n",
        "\n",
        ".price-col h3 span {\n",
        "    font-size: 25px;\n",
        "}\n",
        "\n",
        ".price-col ul {\n",
        "    text-align: left;\n",
        "    margin: 10px 0;\n",
        "    color: #0C356A;\n",
        "    list-style: none;\n",
        "}\n",
        "\n",
        ".price-col ul li {\n",
        "    border-bottom: 2px solid #feffff;\n",
        "    font-size: 20px;\n",
        "    color: #ffffff;\n",
        "    padding: 8px;\n",
        "    text-align: left;\n",
        "}\n",
        "\n",
        ".price-col button {\n",
        "    background-color: #EEE0C9;\n",
        "    border: 1px solid white;\n",
        "    border-radius: 5px;\n",
        "    margin: 20px 0 0 0;\n",
        "    color: #001c38;\n",
        "    padding: 10px 25px;\n",
        "    text-align: center;\n",
        "    text-decoration: none;\n",
        "    font-size: 18px;\n",
        "}\n",
        "\n",
        ".price-col button:hover {\n",
        "    background: #091c23;\n",
        "    color: white;\n",
        "}\n",
        "\n",
        "#best {\n",
        "    background: navy !important;\n",
        "}\n",
        "\n",
        "p {\n",
        "    font-size: 24px !important;\n",
        "    margin-bottom: 10px;\n",
        "    margin-top: -10px;\n",
        "}\n",
        "\n",
        "#prem {\n",
        "    color: gold !important;\n",
        "    text-shadow: 1px 1px gold;\n",
        "}"
      ],
      "metadata": {
        "id": "u8C094gIXnut"
      },
      "execution_count": null,
      "outputs": []
    }
  ]
}