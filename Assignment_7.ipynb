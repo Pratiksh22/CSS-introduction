{
  "nbformat": 4,
  "nbformat_minor": 0,
  "metadata": {
    "colab": {
      "provenance": [],
      "authorship_tag": "ABX9TyPIuXgO7VjBz5a/ccCuRbz7",
      "include_colab_link": true
    },
    "kernelspec": {
      "name": "python3",
      "display_name": "Python 3"
    },
    "language_info": {
      "name": "python"
    }
  },
  "cells": [
    {
      "cell_type": "markdown",
      "metadata": {
        "id": "view-in-github",
        "colab_type": "text"
      },
      "source": [
        "<a href=\"https://colab.research.google.com/github/Pratiksh22/CSS-introduction/blob/main/Assignment_7.ipynb\" target=\"_parent\"><img src=\"https://colab.research.google.com/assets/colab-badge.svg\" alt=\"Open In Colab\"/></a>"
      ]
    },
    {
      "cell_type": "code",
      "execution_count": null,
      "metadata": {
        "id": "BV9AaZTTNjW9"
      },
      "outputs": [],
      "source": [
        "Q.1. Create a navigation bar similar to the below-mentioned image. The navigation bar must contain 5\n",
        "navigation links that are properly placed within the navigation bar using the CSS box model. The navigation\n",
        "items must change their text color on hover."
      ]
    },
    {
      "cell_type": "code",
      "source": [
        "<!DOCTYPE html>\n",
        "<html>\n",
        "<head>\n",
        "    <meta charset='utf-8'>\n",
        "    <meta http-equiv='X-UA-Compatible' content='IE=edge'>\n",
        "    <title>Navigation bar</title>\n",
        "    <meta name='viewport' content='width=device-width, initial-scale=1'>\n",
        "    <link rel=\"stylesheet\" href=\"style_7-1.css\">\n",
        "</head>\n",
        "<body>\n",
        "    <nav class=\"navbar\">\n",
        "        <ul class=\"nav-items\">\n",
        "            <li><a href=\"Mod7_1.html\">Home</a></li>\n",
        "            <li><a href=\"aboutus,html\">About us</a></li>\n",
        "            <li><a href=\"Mod7_1.html\">Contact</a></li>\n",
        "            <li><a href=\"Mod7_1.html\">Blog</a></li>\n",
        "            <li><a href=\"Mod7_1.html\">Log in</a></li>\n",
        "        </ul>\n",
        "    </nav>\n",
        "</body>\n",
        "</html>"
      ],
      "metadata": {
        "id": "WO6Ard1nN2qL"
      },
      "execution_count": null,
      "outputs": []
    },
    {
      "cell_type": "markdown",
      "source": [],
      "metadata": {
        "id": "3SfPYun4OWvs"
      }
    },
    {
      "cell_type": "code",
      "source": [
        "*{\n",
        "    margin: 0;\n",
        "    padding: 0;\n",
        "    box-sizing: border-box;\n",
        "}\n",
        ".navbar{\n",
        "    background-color:blue;\n",
        "    padding: 20px;\n",
        "}\n",
        ".nav-items{\n",
        "    list-style: none;\n",
        "    display: flex;\n",
        "    justify-content: space-around;\n",
        "    align-items: center;\n",
        "}\n",
        ".nav-items li{\n",
        "    padding: 10px 20px;\n",
        "}\n",
        ".nav-items li a{\n",
        "    text-decoration: none;\n",
        "    color: white;\n",
        "    font-size: 18px;\n",
        "    transition: color 0.3s ease;\n",
        "}\n",
        ".nav-items a:hover{\n",
        "    color: #f39cf3;;\n",
        "}\n"
      ],
      "metadata": {
        "id": "Ppm10qRYOHKV"
      },
      "execution_count": null,
      "outputs": []
    },
    {
      "cell_type": "markdown",
      "source": [
        "Q.2 Create a div centered with an image and paragraph similar to the image mentioned below."
      ],
      "metadata": {
        "id": "vNSI1OGuOZsJ"
      }
    },
    {
      "cell_type": "code",
      "source": [
        "<!DOCTYPE html>\n",
        "<html>\n",
        "<head>\n",
        "    <meta charset=\"UTF-8\" />\n",
        "    <title>title</title>\n",
        "    <style>\n",
        "        *{\n",
        "        margin: 0;\n",
        "        padding: 0;\n",
        "        box-sizing: border-box;\n",
        "         }\n",
        "        .body, html{\n",
        "            display: flex;\n",
        "            justify-content: center;\n",
        "            align-items: center;\n",
        "        }\n",
        "         .center-box{\n",
        "            background-color: antiquewhite;\n",
        "            padding: 20px;\n",
        "            border: 2px solid;\n",
        "            border-radius: 10px;\n",
        "            text-align: center;\n",
        "            box-shadow: 0 0 10px rgba(0, 0, 0, 0.1);\n",
        "        }\n",
        "        .box-image{\n",
        "            width: 300px;\n",
        "            height: auto;\n",
        "            display: block;\n",
        "            margin: 0 auto 15px;\n",
        "        }\n",
        "        .box-text{\n",
        "            font-size: large;\n",
        "            color: brown;\n",
        "        }\n",
        "\n",
        "    </style>\n",
        "</head>\n",
        "<body>\n",
        "    <div class=\"center-box\">\n",
        "     <img src=\"full stack.jpg\" alt=\"sample\" class=\"box-image\">\n",
        "     <p class=\"box-text\">Full-stack web development encompasses the creation of both the front-end (user interface) and back-end (server-side logic) of a web application. A full-stack developer possesses the skills to handle all aspects of a project, from user interactions to data storage and server-side processing. This means they are proficient in technologies like HTML, CSS, and JavaScript for the front-end, and server-side languages like Python, PHP, or Node.js, along with database management systems like SQL or NoSQL, for the back-end.\n",
        "Key aspects of full-stack development:\n",
        "Front-end:\n",
        "This involves creating the user interface, including the visual design, interactive elements, and user experience. Front-end developers utilize technologies like HTML, CSS, JavaScript, and frameworks/libraries such as React, Angular, or Vue.\n",
        "Back-end:\n",
        "This handles the server-side logic, including data processing, database interactions, and application architecture. Back-end developers use languages like Python, Node.js, PHP, Ruby, or Java, and databases such as MySQL, PostgreSQL, MongoDB, or Cassandra.\n",
        "Database:\n",
        "Databases store and manage data used by the application, and can be relational (e.g., MySQL, PostgreSQL) or non-relational (e.g., MongoDB, Cassandra).\n",
        "Server:\n",
        "The server hosts the web application and handles requests from clients (browsers).\n",
        "APIs (Application Programming Interfaces):\n",
        "APIs enable communication between the front-end and back-end, allowing data to be exchanged and applications to interact.\n",
        "In essence, full-stack development allows developers to build complete web applications, from the user-facing interface to the server-side logic and data storage, all within the same skillset. </p>\n",
        "    </div>\n",
        "</body>\n",
        "</html>"
      ],
      "metadata": {
        "id": "LKdrgnhsOfTX"
      },
      "execution_count": null,
      "outputs": []
    },
    {
      "cell_type": "markdown",
      "source": [
        "Q.3 Create a navigation bar similar to question 1. For each navigation item, use a different border style."
      ],
      "metadata": {
        "id": "MhkWe5xnPCFq"
      }
    },
    {
      "cell_type": "code",
      "source": [
        "<!DOCTYPE html>\n",
        "<html>\n",
        "<head>\n",
        "    <meta charset=\"UTF-8\" />\n",
        "    <title>Styled nav bar</title>\n",
        "    <link rel=\"stylesheet\" href=\"style7-2.css\">\n",
        "</head>\n",
        "<body>\n",
        "    <nav class=\"navbar\">\n",
        "        <ul class=\"nav-items\">\n",
        "            <li class=\"nav-home\"><a href=\"Mod7_1.html\">Home</a></li>\n",
        "            <li class=\"nav-about\"><a href=\"aboutus.html\">About us</a></li>\n",
        "            <li class=\"nav-contact\"><a href=\"Mod7_1.html\">Contact</a></li>\n",
        "            <li class=\"nav-blog\"><a href=\"Mod7_1.html\">Blog</a></li>\n",
        "            <li class=\"nav-login\"><a href=\"Mod7_1.html\">Log in</a></li>\n",
        "        </ul>\n",
        "    </nav>\n",
        "</body>\n",
        "</html>"
      ],
      "metadata": {
        "id": "4EyHhBLyS9Gd"
      },
      "execution_count": null,
      "outputs": []
    },
    {
      "cell_type": "code",
      "source": [
        "*{\n",
        "    margin: 0;\n",
        "    padding: 0;\n",
        "    box-sizing: border-box;\n",
        "}\n",
        ".navbar{\n",
        "    background-color:blue;\n",
        "    padding: 20px;\n",
        "}\n",
        ".nav-items{\n",
        "    list-style: none;\n",
        "    display: flex;\n",
        "    justify-content: space-evenly;\n",
        "    align-items: center;\n",
        "}\n",
        ".nav-items li{\n",
        "    padding: 10px 20px;\n",
        "}\n",
        ".nav-items li a{\n",
        "    text-decoration: none;\n",
        "    color: white;\n",
        "    font-size: 18px;\n",
        "    transition: color 0.3s ease;\n",
        "}\n",
        ".nav-items a:hover{\n",
        "    color: #f39cf3;;\n",
        "}\n",
        ".nav-home{\n",
        "    border: 2px solid #ecf0f1;\n",
        "}\n",
        ".nav-about{\n",
        "    border: 2px dotted #ecf0f1;\n",
        "}\n",
        ".nav-contact{\n",
        "    border: 2px dashed #ecf0f1;\n",
        "}\n",
        ".nav-blog{\n",
        "    border: 2px double #ecf0f1;\n",
        "}\n",
        ".nav-login{\n",
        "    border: 2px groove #ecf0f1;\n",
        "}"
      ],
      "metadata": {
        "id": "HjsxKd6tTyBh"
      },
      "execution_count": null,
      "outputs": []
    },
    {
      "cell_type": "markdown",
      "source": [
        "Q.4. Create a simple webpage with an image and make the image circular using border-radius"
      ],
      "metadata": {
        "id": "4NmVCgWxT6J-"
      }
    },
    {
      "cell_type": "code",
      "source": [
        "<!DOCTYPE html>\n",
        "<html>\n",
        "<head>\n",
        "    <meta charset=\"UTF-8\" />\n",
        "    <title>Circular image</title>\n",
        "    <style>\n",
        "        *{\n",
        "        margin: 0;\n",
        "        padding: 0;\n",
        "        box-sizing: border-box;\n",
        "         }\n",
        "        .body{\n",
        "            display: flex;\n",
        "            justify-content: center;\n",
        "            align-items: center;\n",
        "            height: 100vh;\n",
        "        }\n",
        "        .image-conatiner{\n",
        "            padding: 20px;\n",
        "            text-align: center;\n",
        "\n",
        "        }\n",
        "        .Circular-image{\n",
        "            width: 200px;\n",
        "            height: 200px;\n",
        "            border-radius: 50%;/* Makes the image circular */\n",
        "            object-fit: cover;\n",
        "\n",
        "        }\n",
        "        </style>\n",
        "</head>\n",
        "<body>\n",
        "    <div class=\"image-container\">\n",
        "        <img src=\"full3.jpg\" alt=\"Profile\" class=\"Circular-image\">\n",
        "    </div>\n",
        "</body>\n",
        "</html>"
      ],
      "metadata": {
        "id": "Du-7RyeLT_20"
      },
      "execution_count": null,
      "outputs": []
    },
    {
      "cell_type": "markdown",
      "source": [
        "Q.5  Create a simple blog website about Google fonts. The webpage must have the heading with “Oswald” font\n",
        "align center to the page, below the heading have an image of Google fonts and a paragraph about Google\n",
        "fonts in font “Montserrat” paragraph font style should be“montserrat” font."
      ],
      "metadata": {
        "id": "LWxs3gczUFLM"
      }
    },
    {
      "cell_type": "code",
      "source": [
        "<!DOCTYPE html>\n",
        "<html>\n",
        "<head>\n",
        "    <meta charset=\"UTF-8\" />\n",
        "    <title>Google font blog</title>\n",
        "    <link rel=\"preconnect\" href=\"https://fonts.googleapis.com\">\n",
        "    <link rel=\"preconnect\" href=\"https://fonts.gstatic.com\" crossorigin>\n",
        "    <link href=\"https://fonts.googleapis.com/css2?family=Oswald&family=Monotoner&display=swap\" rel=\"stylesheet\">\n",
        "    <style>\n",
        "        body {\n",
        "            font-family: 'Monotoner', sans-serif;\n",
        "            line-height: 1.6;\n",
        "            margin: 0;\n",
        "            padding: 20px;\n",
        "            align-items: center;\n",
        "        }\n",
        "        .heading {\n",
        "            font-family: 'Oswald', sans-serif;\n",
        "            text-align: center;\n",
        "            margin-bottom: 20px;\n",
        "            font-size: 2em;\n",
        "        }\n",
        "        img {\n",
        "            align-items: center;\n",
        "            max-width: 100%;\n",
        "            height: auto;\n",
        "            margin-bottom: 20px;\n",
        "        }\n",
        "    </style>\n",
        "</head>\n",
        "<body>\n",
        "    <h1 class=\"heading\">Google Fonts</h1>\n",
        "\n",
        "    <img src=\"G1.png\" alt=\"Google Fonts\" class=\"items\">\n",
        "\n",
        "    <p>Google Fonts are a fantastic resource for web designers, offering a wide variety of free and open-source fonts that are easy to implement in web pages. They provide a diverse selection of fonts for headings, body text, and everything in between, helping developers create visually appealing and user-friendly websites. {Link: More information https://fonts.google.com/}</p>\n",
        "    <img src=\"google font.png\">\n",
        "</body>\n",
        "</html>"
      ],
      "metadata": {
        "id": "HPrb9TxdUJ4q"
      },
      "execution_count": null,
      "outputs": []
    },
    {
      "cell_type": "markdown",
      "source": [
        "Q.6 Create a simple website as mentioned in the below image. You can get the assets by visiting https://\n",
        "pwskills.com/about-us."
      ],
      "metadata": {
        "id": "z4Vxq22NUO3T"
      }
    },
    {
      "cell_type": "code",
      "source": [],
      "metadata": {
        "id": "ngrX0s4jUTQ0"
      },
      "execution_count": null,
      "outputs": []
    },
    {
      "cell_type": "code",
      "source": [
        "<!DOCTYPE html>\n",
        "<html>\n",
        "<head>\n",
        "    <meta charset=\"UTF-8\" />\n",
        "    <title>title</title>\n",
        "    <style>\n",
        "        *{\n",
        "        margin: 0;\n",
        "        padding: 0;\n",
        "\n",
        "         }\n",
        "        .body, html{\n",
        "            display: flex;\n",
        "            justify-content: center;\n",
        "            align-items: center;\n",
        "        }\n",
        "         .center-box{\n",
        "            background-color: antiquewhite;\n",
        "            padding: 100px;\n",
        "            border: 2px solid;\n",
        "\n",
        "            text-align: center;\n",
        "            box-shadow: 0 0 10px rgba(0, 0, 0, 0.1);\n",
        "        }\n",
        "        .heading {\n",
        "            font-family: 'Oswald', sans-serif;\n",
        "            text-align: center;\n",
        "            margin-bottom: 100px;\n",
        "            font-size: 2em;\n",
        "        }\n",
        "        .box-image{\n",
        "            width: auto;\n",
        "            height: auto;\n",
        "            display: block;\n",
        "            margin: 0 auto 50px;\n",
        "        }\n",
        "        .box-text{\n",
        "            font-size: large;\n",
        "            color: black;\n",
        "        }\n",
        "\n",
        "    </style>\n",
        "</head>\n",
        "<body>\n",
        "        <div class=\"center-box\">\n",
        "        <h1 class=\"heading\">AboutUs</h1>\n",
        "        <p class=\"box-text\">PW Skills' mission is to permeate through every student/professional's outlook towards jobs and change their attitude and perspective from \"How Can I Do It?\" to \"Of Course I Can Do It\". We aim to do this by providing exceptional up skilling courses at affordable rates, while being tech-forward so anyone, anywhere can access and improve their ability to be successful in life.</p>\n",
        "        <br>\n",
        "        <img src=\"aboutUs.png\" alt=\"sample\" class=\"box-image\">\n",
        "\n",
        "    </div>\n",
        "\n",
        "</body>\n",
        "</html>"
      ],
      "metadata": {
        "id": "tOhYzEYnUTTv"
      },
      "execution_count": null,
      "outputs": []
    },
    {
      "cell_type": "markdown",
      "source": [
        "Q.7 Create a simple webpage with a card similar to question number 2. The card must be semi-transparent as\n",
        "default and on hovering the card must be displayed clearly. Use CSS opacity to achieve this output."
      ],
      "metadata": {
        "id": "q8QrdB0bUW32"
      }
    },
    {
      "cell_type": "code",
      "source": [
        "<!DOCTYPE html>\n",
        "<html>\n",
        "<head>\n",
        "    <meta charset=\"UTF-8\" />\n",
        "    <title>Card hovering</title>\n",
        "    <link rel=\"stylesheet\" href=\"style_7-7.css\">\n",
        "</head>\n",
        "<body>\n",
        "    <div class=\"center-box\">\n",
        "        <img src=\"Full.jpg\" alt=\"Card\" class=\"card-image\">\n",
        "        <a href=\"Full.jpg\"></a>\n",
        "    </div>\n",
        "</body>\n",
        "</html>"
      ],
      "metadata": {
        "id": "2Vof_SvMUdI5"
      },
      "execution_count": null,
      "outputs": []
    },
    {
      "cell_type": "code",
      "source": [
        "*{\n",
        "        margin: 0;\n",
        "        padding: 0;\n",
        "        box-sizing: border-box;\n",
        "         }\n",
        "        .body, html{\n",
        "            display: flex;\n",
        "            justify-content: center;\n",
        "            align-items: center;\n",
        "        }\n",
        "         .center-box{\n",
        "            background-color: rgb(215, 246, 250);\n",
        "            padding: 100px;\n",
        "            border: 2px solid;\n",
        "            text-align: center;\n",
        "            box-shadow: 0 0 10px rgba(0, 0, 0, 0.1);\n",
        "        }\n",
        "        .card-image{\n",
        "            width: 600px;\n",
        "            height: 300px;\n",
        "            display: block;\n",
        "            margin: 0 auto 300px;\n",
        "            opacity: 2px ;\n",
        "\n",
        "        }\n",
        "        .card-image{\n",
        "            opacity: 0.5;\n",
        "        }\n",
        "        .card-image:hover{\n",
        "\n",
        "            opacity: 1.0;\n",
        "        }\n",
        "\n",
        "\n"
      ],
      "metadata": {
        "id": "AGCuaHN8UsZ0"
      },
      "execution_count": null,
      "outputs": []
    },
    {
      "cell_type": "markdown",
      "source": [
        "Q.8 Create a simple list of items as mentioned in the below image."
      ],
      "metadata": {
        "id": "WEn4AOXsUd0F"
      }
    },
    {
      "cell_type": "code",
      "source": [
        "<!DOCTYPE html>\n",
        "<html>\n",
        "<head>\n",
        "    <meta charset=\"UTF-8\" />\n",
        "    <title>Requirement List</title>\n",
        "    <style>\n",
        "        .box-text{\n",
        "            width: 500px;\n",
        "            height: 200px;\n",
        "            padding: 45px;\n",
        "            border: 2px solid;\n",
        "            text-decoration: solid;\n",
        "            color: black;\n",
        "            font-size: larger;\n",
        "        }\n",
        "        .box-text li{\n",
        "            list-style-type: lower-roman;\n",
        "        }\n",
        "    </style>\n",
        "</head>\n",
        "<body>\n",
        "    <div class=\"box-text\">\n",
        "        <h1>Requirements</h1>\n",
        "        <ol>\n",
        "            <li>System with minimum i3 processor or better.</li>\n",
        "            <li>At least 4 GB of RAM.</li>\n",
        "            <li>Working internet connection.</li>\n",
        "            <li>Dedication to learn.</li>\n",
        "        </ol>\n",
        "        </div>\n",
        "</body>\n",
        "</html>"
      ],
      "metadata": {
        "id": "iGPKjbMQUxCk"
      },
      "execution_count": null,
      "outputs": []
    }
  ]
}