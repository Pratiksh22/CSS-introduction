{
  "nbformat": 4,
  "nbformat_minor": 0,
  "metadata": {
    "colab": {
      "provenance": [],
      "authorship_tag": "ABX9TyNF4aJQZeWIcHtlA1dFSuXc",
      "include_colab_link": true
    },
    "kernelspec": {
      "name": "python3",
      "display_name": "Python 3"
    },
    "language_info": {
      "name": "python"
    }
  },
  "cells": [
    {
      "cell_type": "markdown",
      "metadata": {
        "id": "view-in-github",
        "colab_type": "text"
      },
      "source": [
        "<a href=\"https://colab.research.google.com/github/Pratiksh22/CSS-introduction/blob/main/Module8_assignment.ipynb\" target=\"_parent\"><img src=\"https://colab.research.google.com/assets/colab-badge.svg\" alt=\"Open In Colab\"/></a>"
      ]
    },
    {
      "cell_type": "code",
      "execution_count": null,
      "metadata": {
        "id": "uI7aH4DXkfsB"
      },
      "outputs": [],
      "source": []
    },
    {
      "cell_type": "markdown",
      "source": [
        "Task 1:\n",
        "\n",
        "\n",
        "Problem Statement\n",
        "\n",
        "Write code to position 5 equal-sized (50 X 50px) boxes A, B, C, D, and E as followsC\n",
        "box A 200px from the left, and 200px from the top of the viewportH\n",
        "box B -30px left, and -30px above from the center of box\n",
        "box B -30px right, and -30px above from the center of box  \n",
        "box B -30px left, and -30px below from the center of box\n",
        "box B -30px right, and -30px below from the center of box A.\n",
        "\n",
        "\n"
      ],
      "metadata": {
        "id": "cJ4JXr17mTFx"
      }
    },
    {
      "cell_type": "code",
      "source": [
        "<!DOCTYPE html>\n",
        "<html>\n",
        "<head>\n",
        "    <meta charset=\"UTF-8\" />\n",
        "    <title>\n",
        "        Positioning box\n",
        "    </title>\n",
        "    <style>\n",
        "        .container{\n",
        "            border: 2px solid white;\n",
        "            width: 500px;\n",
        "            height: 500px;\n",
        "            position: relative;\n",
        "\n",
        "        }\n",
        "        .box{\n",
        "            width: 50px;\n",
        "            height: 50px;\n",
        "            position: absolute;\n",
        "            background-color: aqua;\n",
        "        }\n",
        "        .boxA{\n",
        "            top: 200px;\n",
        "            left: 200px;\n",
        "            transform: translate(-50%, -50%);\n",
        "\n",
        "        }\n",
        "        .boxB{\n",
        "\n",
        "            top: 30px;\n",
        "            left: 30px;\n",
        "\n",
        "        }\n",
        "        .boxC{\n",
        "\n",
        "            top: 30px;\n",
        "            right: 30px;\n",
        "        }\n",
        "        .boxD{\n",
        "\n",
        "            bottom: 30px;\n",
        "            left: 30px;\n",
        "        }\n",
        "        .boxE{\n",
        "\n",
        "            bottom: 30px;\n",
        "            right: 30px;\n",
        "        }\n",
        "    </style>\n",
        "</head>\n",
        "<body>\n",
        "    <div class=\"container\">\n",
        "        <div class=\"box boxA\"></div>\n",
        "        <div class=\"box boxB\"></div>\n",
        "        <div class=\"box boxC\"></div>\n",
        "        <div class=\"box boxD\"></div>\n",
        "        <div class=\"box boxE\"></div>\n",
        "    </div>\n",
        "</body>\n",
        "</html>"
      ],
      "metadata": {
        "id": "UtQr4toQmd5Q"
      },
      "execution_count": null,
      "outputs": []
    },
    {
      "cell_type": "markdown",
      "source": [],
      "metadata": {
        "id": "mx1keMoimh8m"
      }
    },
    {
      "cell_type": "markdown",
      "source": [
        "\n"
      ],
      "metadata": {
        "id": "9gO0mOOqmlkW"
      }
    },
    {
      "cell_type": "markdown",
      "source": [
        "\n",
        "Task 2:\n",
        "\n",
        "\n",
        "Problem Statement\n",
        "\n",
        "Explain the difference between Absolute and Relative positioning."
      ],
      "metadata": {
        "id": "a-Qi0QkPmmyi"
      }
    },
    {
      "cell_type": "markdown",
      "source": [
        "Absolute vs Relative Positioning:\n",
        "Relative: Moves element, doesn't break flow.\n",
        "Absolute: Positioned relative to ancestor, breaks flow."
      ],
      "metadata": {
        "id": "YqlVdF0Tmrap"
      }
    },
    {
      "cell_type": "markdown",
      "source": [
        "Task 3:\n",
        "\n",
        "\n",
        "Problem Statement\n",
        "\n",
        "Create a card as shown in the picture below."
      ],
      "metadata": {
        "id": "3Nmrjrjtm10l"
      }
    },
    {
      "cell_type": "code",
      "source": [
        "<!DOCTYPE html>\n",
        "<html>\n",
        "<head>\n",
        "    <meta charset=\"UTF-8\" />\n",
        "    <title>Sample card with CSS float  property</title>\n",
        "    <style>\n",
        "\n",
        "\n",
        "        .image1{\n",
        "            float: right;\n",
        "\n",
        "            width: 400px;\n",
        "            height: 200px;\n",
        "            margin-left: 15px;\n",
        "\n",
        "\n",
        "        }\n",
        "\n",
        "    </style>\n",
        "</head>\n",
        "\n",
        "<body>\n",
        "\n",
        "\n",
        "            <img src=\"earth.jpg\" alt=\"Nature\" class=\"image1\">\n",
        "            <h1>The Earth!!</h1>\n",
        "            <br>\n",
        "           <p> Earth is the third planet from the Sun and the only astronomical object known to harbor life.\n",
        "            This is enabled by Earth being an ocean world, the only one in the Solar System sustaining liquid surface water.\n",
        "            Almost all of Earth's water is contained in its global ocean, covering 70.8% of Earth's crust.\n",
        "            The remaining 29.2% of Earth's crust is land, most of which is located in the form of continental landmasses within Earth's land hemisphere. Most of Earth's land is at least somewhat humid and covered by vegetation, while large sheets of ice at Earth's polar deserts retain more water than Earth's groundwater, lakes, rivers, and atmospheric water combined.\n",
        "            Earth's crust consists of slowly moving tectonic plates, which interact to produce mountain ranges, volcanoes, and earthquakes.\n",
        "            Earth has a liquid outer core that generates a magnetosphere capable of deflecting most of the destructive solar winds and cosmic radiation.\n",
        "           </p>\n",
        "\n",
        "\n",
        "</body>\n",
        "</html>"
      ],
      "metadata": {
        "id": "CXCXYPDYm5Y6"
      },
      "execution_count": null,
      "outputs": []
    },
    {
      "cell_type": "markdown",
      "source": [
        "Task 4:\n",
        "\n",
        "\n",
        "Problem Statement\n",
        "\n",
        "Create a simple header that sticks to the top of a webpage upon scrolling."
      ],
      "metadata": {
        "id": "u2zJeY2Mm9jb"
      }
    },
    {
      "cell_type": "code",
      "source": [
        "<!DOCTYPE html>\n",
        "<html>\n",
        "<head>\n",
        "<title>Sticky Header</title>\n",
        "<style>\n",
        ".sticky-header {\n",
        "  position: fixed;\n",
        "  top: 0;\n",
        "  left: 0;\n",
        "  width: 100%; /* Make sure the header spans the full width */\n",
        "  background-color: #333;\n",
        "  color: white;\n",
        "  padding: 10px;\n",
        "  z-index: 100; /* Ensure the header is above other content */\n",
        "\n",
        "}\n",
        ".content{\n",
        " display: flex;\n",
        "  justify-content: space-evenly;\n",
        "  list-style: none;\n",
        "  align-items: center;\n",
        "  padding: auto;\n",
        "\n",
        "}\n",
        ".content text{\n",
        "    padding: 18px;\n",
        "}\n",
        "</style>\n",
        "</head>\n",
        "<body>\n",
        "\n",
        "<header class=\"sticky-header\">\n",
        "  <h1>LOGO</h1>\n",
        "  <ul class=\"content\">\n",
        "    <li>Home</li>\n",
        "    <li>Aboutus</li>\n",
        "    <li>Contact</li>\n",
        "    <li>Sign in</li>\n",
        "    </ul>\n",
        "</header>\n",
        "<div class=\"content-text\">\n",
        "  <h3>On Scroll Sticky Header</h3>\n",
        "  <p>The header will stick to the top when you reach its scroll position.</p>\n",
        "  <p>Scroll back up to remove the sticky effect.</p>\n",
        "  <p>Some text to enable scrolling.. Lorem ipsum dolor sit amet, illum definitiones no quo, maluisset concludaturque et eum, altera fabulas ut quo. Atqui causae gloriatur ius te, id agam omnis evertitur eum. Affert laboramus repudiandae nec et. Inciderint efficiantur his ad. Eum no molestiae voluptatibus.</p>\n",
        "  <p>Some text to enable scrolling.. Lorem ipsum dolor sit amet, illum definitiones no quo, maluisset concludaturque et eum, altera fabulas ut quo. Atqui causae gloriatur ius te, id agam omnis evertitur eum. Affert laboramus repudiandae nec et. Inciderint efficiantur his ad. Eum no molestiae voluptatibus.</p>\n",
        "  <p>Some text to enable scrolling.. Lorem ipsum dolor sit amet, illum definitiones no quo, maluisset concludaturque et eum, altera fabulas ut quo. Atqui causae gloriatur ius te, id agam omnis evertitur eum. Affert laboramus repudiandae nec et. Inciderint efficiantur his ad. Eum no molestiae voluptatibus.</p>\n",
        "  <p>Some text to enable scrolling.. Lorem ipsum dolor sit amet, illum definitiones no quo, maluisset concludaturque et eum, altera fabulas ut quo. Atqui causae gloriatur ius te, id agam omnis evertitur eum. Affert laboramus repudiandae nec et. Inciderint efficiantur his ad. Eum no molestiae voluptatibus.</p><p>Some text to enable scrolling.. Lorem ipsum dolor sit amet, illum definitiones no quo, maluisset concludaturque et eum, altera fabulas ut quo. Atqui causae gloriatur ius te, id agam omnis evertitur eum. Affert laboramus repudiandae nec et. Inciderint efficiantur his ad. Eum no molestiae voluptatibus.</p>  <p>Some text to enable scrolling.. Lorem ipsum dolor sit amet, illum definitiones no quo, maluisset concludaturque et eum, altera fabulas ut quo. Atqui causae gloriatur ius te, id agam omnis evertitur eum. Affert laboramus repudiandae nec et. Inciderint efficiantur his ad. Eum no molestiae voluptatibus.</p><p>Some text to enable scrolling.. Lorem ipsum dolor sit amet, illum definitiones no quo, maluisset concludaturque et eum, altera fabulas ut quo. Atqui causae gloriatur ius te, id agam omnis evertitur eum. Affert laboramus repudiandae nec et. Inciderint efficiantur his ad. Eum no molestiae voluptatibus.</p>  <p>Some text to enable scrolling.. Lorem ipsum dolor sit amet, illum definitiones no quo, maluisset concludaturque et eum, altera fabulas ut quo. Atqui causae gloriatur ius te, id agam omnis evertitur eum. Affert laboramus repudiandae nec et. Inciderint efficiantur his ad. Eum no molestiae voluptatibus.</p><p>Some text to enable scrolling.. Lorem ipsum dolor sit amet, illum definitiones no quo, maluisset concludaturque et eum, altera fabulas ut quo. Atqui causae gloriatur ius te, id agam omnis evertitur eum. Affert laboramus repudiandae nec et. Inciderint efficiantur his ad. Eum no molestiae voluptatibus.</p>  <p>Some text to enable scrolling.. Lorem ipsum dolor sit amet, illum definitiones no quo, maluisset concludaturque et eum, altera fabulas ut quo. Atqui causae gloriatur ius te, id agam omnis evertitur eum. Affert laboramus repudiandae nec et. Inciderint efficiantur his ad. Eum no molestiae voluptatibus.</p><p>Some text to enable scrolling.. Lorem ipsum dolor sit amet, illum definitiones no quo, maluisset concludaturque et eum, altera fabulas ut quo. Atqui causae gloriatur ius te, id agam omnis evertitur eum. Affert laboramus repudiandae nec et. Inciderint efficiantur his ad. Eum no molestiae voluptatibus.</p>\n",
        "  <p>Some text to enable scrolling.. Lorem ipsum dolor sit amet, illum definitiones no quo, maluisset concludaturque et eum, altera fabulas ut quo. Atqui causae gloriatur ius te, id agam omnis evertitur eum. Affert laboramus repudiandae nec et. Inciderint efficiantur his ad. Eum no molestiae voluptatibus.</p>\n",
        "  <p>Some text to enable scrolling.. Lorem ipsum dolor sit amet, illum definitiones no quo, maluisset concludaturque et eum, altera fabulas ut quo. Atqui causae gloriatur ius te, id agam omnis evertitur eum. Affert laboramus repudiandae nec et. Inciderint efficiantur his ad. Eum no molestiae voluptatibus.</p>\n",
        "  <p>Some text to enable scrolling.. Lorem ipsum dolor sit amet, illum definitiones no quo, maluisset concludaturque et eum, altera fabulas ut quo. Atqui causae gloriatur ius te, id agam omnis evertitur eum. Affert laboramus repudiandae nec et. Inciderint efficiantur his ad. Eum no molestiae voluptatibus.</p>\n",
        "  <p>Some text to enable scrolling.. Lorem ipsum dolor sit amet, illum definitiones no quo, maluisset concludaturque et eum, altera fabulas ut quo. Atqui causae gloriatur ius te, id agam omnis evertitur eum. Affert laboramus repudiandae nec et. Inciderint efficiantur his ad. Eum no molestiae voluptatibus.</p>\n",
        "</div>\n",
        "\n",
        "</body>\n",
        "</html>\n",
        ""
      ],
      "metadata": {
        "id": "BnhadrPWnCF2"
      },
      "execution_count": null,
      "outputs": []
    },
    {
      "cell_type": "markdown",
      "source": [
        "Task 5:\n",
        "\n",
        "\n",
        "Problem Statement\n",
        "\n",
        "Explain the z-index, with a code example."
      ],
      "metadata": {
        "id": "O3X8-u-VnHBp"
      }
    },
    {
      "cell_type": "markdown",
      "source": [
        "The z-index CSS property controls the stacking order of positioned elements along the z-axis (the axis perpendicular to the screen), essentially determining which elements appear in front of or behind others when they overlap. Elements with higher z-index values appear on top of elements with lower values within the same stacking context. Z-index only applies to positioned elements (absolute, relative, fixed, or sticky)."
      ],
      "metadata": {
        "id": "Pr9TWfsBnM3A"
      }
    },
    {
      "cell_type": "code",
      "source": [
        "<div class=\"container\">\n",
        "  <div class=\"box red\">\n",
        "    <p>Red Box (z-index: 1)</p>\n",
        "  </div>\n",
        "  <div class=\"box blue\">\n",
        "    <p>Blue Box (z-index: 2)</p>\n",
        "  </div>\n",
        "</div>"
      ],
      "metadata": {
        "id": "Bx9HnyL6naWT"
      },
      "execution_count": null,
      "outputs": []
    },
    {
      "cell_type": "code",
      "source": [
        ".container {\n",
        "  position: relative; /* Creates a stacking context for the container */\n",
        "}\n",
        "\n",
        ".box {\n",
        "  position: absolute;\n",
        "  width: 200px;\n",
        "  height: 100px;\n",
        "  padding: 20px;\n",
        "  border: 1px solid black;\n",
        "}\n",
        "\n",
        ".red {\n",
        "  background-color: red;\n",
        "  top: 50px;\n",
        "  left: 50px;\n",
        "  z-index: 1;\n",
        "}\n",
        "\n",
        ".blue {\n",
        "  background-color: blue;\n",
        "  top: 100px;\n",
        "  left: 100px;\n",
        "  z-index: 2;\n",
        "}"
      ],
      "metadata": {
        "id": "iqMxmA_mnf1i"
      },
      "execution_count": null,
      "outputs": []
    }
  ]
}